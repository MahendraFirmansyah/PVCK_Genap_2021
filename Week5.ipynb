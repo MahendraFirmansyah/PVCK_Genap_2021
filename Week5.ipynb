{
  "nbformat": 4,
  "nbformat_minor": 0,
  "metadata": {
    "colab": {
      "name": "Week5.ipynb",
      "provenance": [],
      "authorship_tag": "ABX9TyP1DkLeBMI1SeQUzjYyiayU",
      "include_colab_link": true
    },
    "kernelspec": {
      "name": "python3",
      "display_name": "Python 3"
    }
  },
  "cells": [
    {
      "cell_type": "markdown",
      "metadata": {
        "id": "view-in-github",
        "colab_type": "text"
      },
      "source": [
        "<a href=\"https://colab.research.google.com/github/MahendraFirmansyah/PVCK_Genap_2021/blob/main/Week5.ipynb\" target=\"_parent\"><img src=\"https://colab.research.google.com/assets/colab-badge.svg\" alt=\"Open In Colab\"/></a>"
      ]
    },
    {
      "cell_type": "code",
      "metadata": {
        "id": "w8GHaBus3Nri",
        "outputId": "1e24172f-8c5b-46dc-9030-1997b7cb2a5b",
        "colab": {
          "base_uri": "https://localhost:8080/"
        }
      },
      "source": [
        "from google.colab import drive\r\n",
        "\r\n",
        "drive.mount('/content/drive')"
      ],
      "execution_count": 8,
      "outputs": [
        {
          "output_type": "stream",
          "text": [
            "Drive already mounted at /content/drive; to attempt to forcibly remount, call drive.mount(\"/content/drive\", force_remount=True).\n"
          ],
          "name": "stdout"
        }
      ]
    },
    {
      "cell_type": "code",
      "metadata": {
        "id": "H79Gnahu3d62"
      },
      "source": [
        "import cv2 as cv2\r\n",
        "from google.colab.patches import cv2_imshow\r\n",
        "from skimage import io\r\n",
        "import matplotlib.pyplot as plt\r\n",
        "import numpy as np\r\n",
        "import math"
      ],
      "execution_count": 6,
      "outputs": []
    },
    {
      "cell_type": "markdown",
      "metadata": {
        "id": "gQD-XXYX3zMu"
      },
      "source": [
        "**Tugas Praktikum**\r\n",
        "NO 1 "
      ]
    },
    {
      "cell_type": "code",
      "metadata": {
        "id": "NhKnnlmE3fFt"
      },
      "source": [
        "#Tugas Praktikum \r\n",
        "#No 1\r\n",
        "\r\n",
        "print('Gamma Corection pada citra')\r\n",
        "print('-----------------------------')\r\n",
        "try:\r\n",
        "  gamma = int (input('Masukkan nilai Gamma: '))\r\n",
        "except ValueError:\r\n",
        "  print('Error, not a number')\r\n",
        "\r\n",
        "original = cv2.imread('/content/drive/MyDrive/PunkBuster.jpg')\r\n",
        "gamma_image = np.zeros(original.shape, original.dtype)\r\n",
        "\r\n",
        "#akses per pixel\r\n",
        "for y in range(original.shape[0]):\r\n",
        "  for x in range(original.shape[1]):\r\n",
        "    for c in range(original.shape[2]):\r\n",
        "      gamma_image[y,x,c] = np.clip(255 * pow(original[y,x,c]/255,(1/gamma)),0,255)\r\n",
        "\r\n",
        "final_frame = cv2.hconcat((original, gamma_image))\r\n",
        "cv2_imshow(final_frame)"
      ],
      "execution_count": null,
      "outputs": []
    },
    {
      "cell_type": "markdown",
      "metadata": {
        "id": "U5Bdiibc4Hd9"
      },
      "source": [
        "**Tugas Praktikum**\r\n",
        "NO 3"
      ]
    },
    {
      "cell_type": "code",
      "metadata": {
        "id": "P9cAATNJ4JmM"
      },
      "source": [
        ""
      ],
      "execution_count": null,
      "outputs": []
    },
    {
      "cell_type": "markdown",
      "metadata": {
        "id": "g_KOfNGE4VmV"
      },
      "source": [
        "**Tugas Praktikum**\r\n",
        "NO 4"
      ]
    },
    {
      "cell_type": "code",
      "metadata": {
        "id": "XVXIaQUo4Xtl"
      },
      "source": [
        "# Load image, create mask, and draw white circle on mask\r\n",
        "image = cv2.imread('/content/drive/MyDrive/PunkBuster.jpg')\r\n",
        "mask = np.zeros(image.shape, dtype=np.uint8)\r\n",
        "mask = cv2.rectangle(mask, (260, 300), (610,28), (255,255,255), -1)\r\n",
        "\r\n",
        "#mask = cv2.rectangle(mask, (260, 300), (610,28), (255,255,255), -1)            \r\n",
        "#mask2 = cv2.rectangle(mask, (160, 800), (448,528), (255,255,255), -1)\r\n",
        "\r\n",
        "# Mask input image with binary mask\r\n",
        "result = cv2.bitwise_and(image, mask)\r\n",
        "# Color background white\r\n",
        "result[mask==50] = 255 # Optional\r\n",
        "\r\n",
        "#cv2.imshow('image', image)\r\n",
        "#cv2.imshow('mask', mask)\r\n",
        "#cv2.imshow('result', result)\r\n",
        "\r\n",
        "final_frame = cv2.hconcat((image, result))\r\n",
        "cv2_imshow(final_frame)"
      ],
      "execution_count": null,
      "outputs": []
    },
    {
      "cell_type": "code",
      "metadata": {
        "id": "3i1fL_Xw4mit"
      },
      "source": [
        "plt.imshow(plt.imread('/content/drive/MyDrive/PunkBuster.jpg'))"
      ],
      "execution_count": null,
      "outputs": []
    }
  ]
}