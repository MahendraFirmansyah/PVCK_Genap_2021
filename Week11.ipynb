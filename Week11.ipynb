{
  "nbformat": 4,
  "nbformat_minor": 0,
  "metadata": {
    "colab": {
      "name": "Week11.ipynb",
      "provenance": [],
      "authorship_tag": "ABX9TyOWkx/oL1CCzlOAlIPbL/ZY",
      "include_colab_link": true
    },
    "kernelspec": {
      "name": "python3",
      "display_name": "Python 3"
    },
    "language_info": {
      "name": "python"
    }
  },
  "cells": [
    {
      "cell_type": "markdown",
      "metadata": {
        "id": "view-in-github",
        "colab_type": "text"
      },
      "source": [
        "<a href=\"https://colab.research.google.com/github/MahendraFirmansyah/PVCK_Genap_2021/blob/main/Week11.ipynb\" target=\"_parent\"><img src=\"https://colab.research.google.com/assets/colab-badge.svg\" alt=\"Open In Colab\"/></a>"
      ]
    },
    {
      "cell_type": "markdown",
      "metadata": {
        "id": "FDKRAYyDW1n-"
      },
      "source": [
        "**NOMER 1**"
      ]
    },
    {
      "cell_type": "code",
      "metadata": {
        "id": "gg0zzISaW6JF"
      },
      "source": [
        "import cv2 as cv\n",
        "import numpy as np\n",
        "from matplotlib import pyplot as plt"
      ],
      "execution_count": null,
      "outputs": []
    },
    {
      "cell_type": "code",
      "metadata": {
        "id": "tOin-XDRW8p9"
      },
      "source": [
        "from google.colab import drive\n",
        "drive.mount('/content/drive')"
      ],
      "execution_count": null,
      "outputs": []
    },
    {
      "cell_type": "markdown",
      "metadata": {
        "id": "gqpb6xOVW91d"
      },
      "source": [
        "**NOMER 2**"
      ]
    },
    {
      "cell_type": "code",
      "metadata": {
        "id": "XnELDx0RXEyN"
      },
      "source": [
        "img = cv.imread('/content/drive/MyDrive/PCVK/cats_and_bunnies.jpg',0)\n",
        "img2 = img.copy()\n",
        "template = cv.imread('/content/drive/MyDrive/PCVK/cat2_templatejpg.jpg',0)\n",
        "w, h = template.shape[::-1]\n",
        "\n",
        "methods = ['cv.TM_CCOEFF', 'cv.TM_CCOEFF_NORMED', 'cv.TM_CCORR',\n",
        "            'cv.TM_CCORR_NORMED', 'cv.TM_SQDIFF', 'cv.TM_SQDIFF_NORMED']\n",
        "\n",
        "for meth in methods:\n",
        "    img = img2.copy()\n",
        "    method = eval(meth)\n",
        "\n",
        "    res = cv.matchTemplate(img,template,method)\n",
        "    min_val, max_val, min_loc, max_loc = cv.minMaxLoc(res)\n",
        "\n",
        "    if method in [cv.TM_SQDIFF, cv.TM_SQDIFF_NORMED]:\n",
        "        top_left = min_loc\n",
        "    else:\n",
        "        top_left = max_loc\n",
        "    bottom_right = (top_left[0] + w, top_left[1] + h)\n",
        "\n",
        "    cv.rectangle(img,top_left, bottom_right, 255, 10)\n",
        "\n",
        "    plt.subplot(121),plt.imshow(res,cmap = 'gray')\n",
        "    plt.title('Matching Result'), plt.xticks([]), plt.yticks([])\n",
        "    plt.subplot(122),plt.imshow(img,cmap = 'gray')\n",
        "    plt.title('Detected Point'), plt.xticks([]), plt.yticks([])\n",
        "    plt.suptitle(meth)\n",
        "\n",
        "    plt.show()"
      ],
      "execution_count": null,
      "outputs": []
    },
    {
      "cell_type": "markdown",
      "metadata": {
        "id": "mSTXMQU9W_ct"
      },
      "source": [
        "**NOMER 3**"
      ]
    },
    {
      "cell_type": "code",
      "metadata": {
        "id": "ve3mrawTXGuV"
      },
      "source": [
        "# 3A\n",
        "\n",
        "image_original = cv.imread('/content/drive/MyDrive/PCVK/parking-lot-cars.jpg', cv.IMREAD_COLOR)\n",
        "\n",
        "# Convert image to gray scale\n",
        "image_gray = cv.cvtColor(image_original, cv.COLOR_BGR2GRAY)\n",
        "\n",
        "# 3x3 Y-direction  kernel\n",
        "sobel_y = np.array([[-1, -2, -1], [0, 0, 0], [1, 2, 1]])\n",
        "\n",
        "# 3 X 3 X-direction kernel\n",
        "sobel_x = np.array([[-1, 0, 1], [-2, 0, 2], [-1, 0, 1]])\n",
        "\n",
        "# Filter the image using filter2D, which has inputs: (grayscale image, bit-depth, kernel)\n",
        "filtered_image_y = cv.filter2D(image_gray, -1, sobel_y)\n",
        "filtered_image_x = cv.filter2D(image_gray, -1, sobel_x)\n",
        "\n",
        "(fig, (ax1, ax2, ax3)) = plt.subplots(1, 3, figsize=(25, 25))\n",
        "ax1.title.set_text('Original Image')\n",
        "ax1.imshow(image_original)\n",
        "ax2.title.set_text('sobel_x')\n",
        "ax2.imshow(filtered_image_y)\n",
        "ax3.title.set_text('sobel_y filter')\n",
        "ax3.imshow(filtered_image_x)\n",
        "\n",
        "plt.show()\n"
      ],
      "execution_count": null,
      "outputs": []
    },
    {
      "cell_type": "code",
      "metadata": {
        "id": "rH6WqTCqXK9d"
      },
      "source": [
        "# 3B\n",
        "\n",
        "image_original = cv.imread('/content/drive/MyDrive/PCVK/parking-lot-cars.jpg', cv.IMREAD_COLOR)\n",
        "# remove noise\n",
        "image_gray = cv.cvtColor(image_original, cv.COLOR_BGR2GRAY)\n",
        "filtered_image = cv.Canny(image_gray, threshold1=20, threshold2=200)\n",
        "# Plot outputs\n",
        "(fig, (ax1, ax2)) = plt.subplots(1, 2, figsize=(15, 15))\n",
        "ax1.title.set_text('Original Image')\n",
        "ax1.imshow(image_original)\n",
        "ax2.title.set_text('Laplacian Filtered Image')\n",
        "ax2.imshow(filtered_image, cmap='gray')"
      ],
      "execution_count": null,
      "outputs": []
    },
    {
      "cell_type": "code",
      "metadata": {
        "id": "CkAhJz5sXMJl"
      },
      "source": [
        "# 3C\n",
        "\n",
        "image_original = cv.imread('/content/drive/MyDrive/PCVK/parking-lot-cars.jpg', cv.IMREAD_COLOR)\n",
        "# remove noise\n",
        "image_gray = cv.cvtColor(image_original, cv.COLOR_BGR2GRAY)\n",
        "# Reduce noise in image\n",
        "img = cv.GaussianBlur(image_gray,(3,3),0)\n",
        "# Filter the image using filter2D, which has inputs: (grayscale image, bit-depth, kernel)\n",
        "filtered_image = cv.Laplacian(img, ksize=3, ddepth=cv.CV_16S)\n",
        "# converting back to uint8\n",
        "filtered_image = cv.convertScaleAbs(filtered_image)\n",
        "# Plot outputs\n",
        "(fig, (ax1, ax2)) = plt.subplots(1, 2, figsize=(15, 15))\n",
        "ax1.title.set_text('Original Image')\n",
        "ax1.imshow(image_original)\n",
        "ax2.title.set_text('Laplacian Filtered Image')\n",
        "ax2.imshow(filtered_image, cmap='gray')"
      ],
      "execution_count": null,
      "outputs": []
    },
    {
      "cell_type": "markdown",
      "metadata": {
        "id": "CkFBhOpsW_fN"
      },
      "source": [
        "**NOMER 4**"
      ]
    },
    {
      "cell_type": "code",
      "metadata": {
        "id": "eUe3n0YqXO89"
      },
      "source": [
        "# 4A\n",
        "\n",
        "import cv2 as cv\n",
        "import numpy as np\n",
        "from matplotlib import pyplot as plt\n",
        "\n",
        "#load citra input \n",
        "input_img = cv.imread('/content/drive/MyDrive/PCVK/chess-board.jpg') \n",
        "gray_img = cv.cvtColor(input_img, cv.COLOR_BGR2GRAY)\n",
        "dst = cv.cornerHarris(gray_img,3,1,0.04)\n",
        "\n",
        "gray_img = np.float32(gray_img) \n",
        "harris_output = cv.cornerHarris(gray_img,2,3, 3)\n",
        "#hasil harris corner dilakukan dilasi untuk menandai sudut \n",
        "harris_output = cv.dilate(harris_output, None)\n",
        "\n",
        "#Threshold untuk mengoptimalkan nilai \n",
        "input_img[dst>0.01*dst.max()]=[0,0,255]\n",
        "\n",
        "plt.figure(figsize=(20,10)) \n",
        "plt.imshow(cv.cvtColor(input_img, cv.COLOR_BGR2RGB))"
      ],
      "execution_count": null,
      "outputs": []
    },
    {
      "cell_type": "code",
      "metadata": {
        "id": "n3NTH5dlXQm9"
      },
      "source": [
        "# 4B\n",
        "\n",
        "input_img = cv.imread('/content/drive/MyDrive/PCVK/chess-board.jpg') \n",
        "gray_img = cv.cvtColor(input_img, cv.COLOR_BGR2GRAY)\n",
        "\n",
        "corners = cv.goodFeaturesToTrack(gray_img, 100,0.01,10) \n",
        "corners = np. int0(corners) \n",
        "for i in corners:\n",
        "    x,y = i.ravel() \n",
        "    cv.circle(input_img, (x,y),3,255,2)\n",
        "\n",
        "plt.figure(figsize=(20,10)) \n",
        "plt.imshow(cv.cvtColor(input_img, cv.COLOR_BGR2RGB))"
      ],
      "execution_count": null,
      "outputs": []
    },
    {
      "cell_type": "markdown",
      "metadata": {
        "id": "YamSzawSW_iJ"
      },
      "source": [
        "**NOMER 5**"
      ]
    },
    {
      "cell_type": "code",
      "metadata": {
        "id": "ZKgBKseEXTAd"
      },
      "source": [
        "input_img = cv.imread('/content/drive/MyDrive/PCVK/sudoku.jpg') \n",
        "img_gray = cv.cvtColor(input_img, cv.COLOR_BGR2GRAY)\n",
        "\n",
        "edges = cv.Canny (img_gray, 90, 150, apertureSize = 3)\n",
        "\n",
        "kernel = np.ones((3,3), np.uint8) \n",
        "edges = cv.dilate(edges,kernel,iterations = 1)\n",
        "\n",
        "kernel = np.ones((5,5), np.uint8) \n",
        "edges = cv.erode (edges, kernel, iterations = 1)\n",
        "\n",
        "lines = cv.HoughLines(edges,1,np.pi/180,150)\n",
        "\n",
        "\n",
        "if not lines.any():\n",
        "    print('No lines were found') \n",
        "    exit()\n",
        "\n",
        "if filter:\n",
        "    rho_threshold = 15 \n",
        "    theta_threshold = 0.1\n",
        "\n",
        " \n",
        "    similar_lines = {i : [] for i in range(len(lines))} \n",
        "    for i in range(len(lines)): \n",
        "      for j in range (len (lines)): \n",
        "        if i == j: \n",
        "            continue\n",
        "\n",
        "        rho_i, theta_i = lines[i][0] \n",
        "        rho_j, theta_j = lines[j][0] \n",
        "        if abs(rho_i - rho_j) < rho_threshold and abs (theta_i - theta_j) < theta_threshold:\n",
        "            similar_lines[i].append(j)\n",
        "\n",
        "\n",
        "    indices = [i for i in range(len(lines))] \n",
        "    indices.sort(key=lambda x: len(similar_lines[x]))\n",
        "\n",
        "    line_flags = len(lines) *[True] \n",
        "    for i in range(len(lines) - 1): \n",
        "        if not line_flags [indices[i]]: \n",
        "            continue\n",
        "\n",
        "        for j in range(i + 1, len(lines)): \n",
        "            if not line_flags[indices[j]]:\n",
        "                continue\n",
        "            rho_i, theta_i = lines[indices[i]][0] \n",
        "            rho_j, theta_j = lines[indices[j]][0] \n",
        "            if abs(rho_i - rho_j) < rho_threshold and abs(theta_i - theta_j) < theta_threshold:\n",
        "                line_flags [indices[j]] = False\n",
        "    print('number of Hough lines:', len(lines))\n",
        "    \n",
        "    filtered_lines = []\n",
        "\n",
        "    if filter:\n",
        "        for i in range(len(lines)): \n",
        "            if line_flags[i]:\n",
        "                filtered_lines.append(lines[i])\n",
        "\n",
        "            print('Number of filtered lines:', len(filtered_lines )) \n",
        "    else:\n",
        "        filtered_lines = lines\n",
        "\n",
        "    for line in filtered_lines:\n",
        "        rho, theta = line [0] \n",
        "        a = np.cos(theta) \n",
        "        b = np.sin(theta) \n",
        "        x0 = a*rho \n",
        "        y0 = b*rho \n",
        "        x1 = int(x0 + 1000*(-b)) \n",
        "        y1 = int(y0 + 1000*(a)) \n",
        "        x2 = int(x0 - 1000*(-b)) \n",
        "        y2 = int(y0 - 1000*(a))\n",
        "\n",
        "        cv.line(input_img, (x1, y1), (x2,y2),(0,0,255),2)\n",
        "\n",
        "    plt.figure(figsize=(20,10)) \n",
        "    plt.imshow(cv.cvtColor(input_img, cv.COLOR_BGR2RGB))"
      ],
      "execution_count": null,
      "outputs": []
    },
    {
      "cell_type": "markdown",
      "metadata": {
        "id": "Uu6abNceXX8V"
      },
      "source": [
        "**NOMER 6**"
      ]
    },
    {
      "cell_type": "code",
      "metadata": {
        "id": "3nX-9m0sXYhP"
      },
      "source": [
        "img = cv.imread('/content/drive/MyDrive/PCVK/laptop.jpg') \n",
        "img_gray = cv.cvtColor(img, cv.COLOR_BGR2GRAY)\n",
        "\n",
        "edged = cv.Canny(img_gray, 30, 200)\n",
        "\n",
        "contours, hierarchy = cv.findContours(edged, cv.RETR_EXTERNAL, cv.CHAIN_APPROX_NONE)\n",
        "\n",
        "cv.drawContours(img, contours, -1, (0,0,255), 3)\n",
        "\n",
        "plt.figure(figsize=(20,10)) \n",
        "plt.imshow(cv.cvtColor(img, cv.COLOR_BGR2RGB))"
      ],
      "execution_count": null,
      "outputs": []
    }
  ]
}