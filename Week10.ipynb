{
  "nbformat": 4,
  "nbformat_minor": 0,
  "metadata": {
    "colab": {
      "name": "Week10.ipynb",
      "provenance": [],
      "authorship_tag": "ABX9TyPSebLExX5mz5/L2YnKmm1K",
      "include_colab_link": true
    },
    "kernelspec": {
      "name": "python3",
      "display_name": "Python 3"
    },
    "language_info": {
      "name": "python"
    }
  },
  "cells": [
    {
      "cell_type": "markdown",
      "metadata": {
        "id": "view-in-github",
        "colab_type": "text"
      },
      "source": [
        "<a href=\"https://colab.research.google.com/github/MahendraFirmansyah/PVCK_Genap_2021/blob/main/Week10.ipynb\" target=\"_parent\"><img src=\"https://colab.research.google.com/assets/colab-badge.svg\" alt=\"Open In Colab\"/></a>"
      ]
    },
    {
      "cell_type": "markdown",
      "metadata": {
        "id": "OT4YUADmHNBH"
      },
      "source": [
        "**1. Import folder yang ada di drive**"
      ]
    },
    {
      "cell_type": "code",
      "metadata": {
        "id": "Vwf3qMfOGeKZ"
      },
      "source": [
        "from google.colab import drive\n",
        "\n",
        "#akses google drive\n",
        "drive.mount('/content/drive/')"
      ],
      "execution_count": null,
      "outputs": []
    },
    {
      "cell_type": "markdown",
      "metadata": {
        "id": "YeC3G7QLHQJA"
      },
      "source": [
        "**2. Import library**"
      ]
    },
    {
      "cell_type": "code",
      "metadata": {
        "id": "8EZwfNTOG6eB"
      },
      "source": [
        "import cv2 as cv\n",
        "import numpy as np\n",
        "from matplotlib import pyplot as plt"
      ],
      "execution_count": null,
      "outputs": []
    },
    {
      "cell_type": "markdown",
      "metadata": {
        "id": "yacg6rRiHRxB"
      },
      "source": [
        "**3. Membuat Global Threshold (BINARY, BINARY_INV, TRUNC, TOZERO, TOZERO_INV)**"
      ]
    },
    {
      "cell_type": "code",
      "metadata": {
        "id": "QHzy6kccG8Cn"
      },
      "source": [
        "img = cv.imread('/content/drive/MyDrive/PCVK/gradient.jpg',0)\n",
        "ret,thresh1 = cv.threshold(img,127,255,cv.THRESH_BINARY)\n",
        "ret,thresh2 = cv.threshold(img,127,255,cv.THRESH_BINARY_INV)\n",
        "ret,thresh3 = cv.threshold(img,127,255,cv.THRESH_TRUNC)\n",
        "ret,thresh4 = cv.threshold(img,127,255,cv.THRESH_TOZERO)\n",
        "ret,thresh5 = cv.threshold(img,127,255,cv.THRESH_TOZERO_INV)\n",
        "\n",
        "titles = ['Original Image','BINARY','BINARY_INV','TRUNC','TOZERO','TOZERO_INV']\n",
        "images = [img, thresh1, thresh2, thresh3, thresh4, thresh5]\n",
        "\n",
        "for i in range(6):\n",
        "    plt.subplot(2,3,i+1),plt.imshow(images[i],'gray',vmin=0,vmax=255)\n",
        "    plt.title(titles[i])\n",
        "    plt.xticks([]),plt.yticks([])\n",
        "\n",
        "plt.show()"
      ],
      "execution_count": null,
      "outputs": []
    },
    {
      "cell_type": "markdown",
      "metadata": {
        "id": "EWxfr8ztHVHA"
      },
      "source": [
        "**4. Membuat Otsu Thresholding**"
      ]
    },
    {
      "cell_type": "code",
      "metadata": {
        "id": "oi1lMZKrG-8n"
      },
      "source": [
        "import cv2\n",
        "import numpy as np\n",
        "from matplotlib import pyplot as plt\n",
        "\n",
        "filename = ('/content/drive/MyDrive/PCVK/lena_gs_lc2.jpg')\n",
        "img = cv2.imread(filename,0) \n",
        "blur = cv2. GaussianBlur (img, (5,5),0)\n",
        "\n",
        "hist = cv2.calcHist([blur],[0],None,[256], [0,256]) \n",
        "hist_norm = hist.ravel()/hist.max() \n",
        "Q = hist_norm.cumsum() \n",
        "bins = np.arange (256) \n",
        "wb = 0 \n",
        "sumb = 0 \n",
        "varmax = 0 \n",
        "fn_min = np.inf \n",
        "thresh = -1 \n",
        "for i in range(0,255):\n",
        "  wb += hist[i] \n",
        "  wf = (img.shape[0]*img.shape[1]) - wb \n",
        "  sumb += (i*hist[i]) \n",
        "  mb = sumb / wb \n",
        "  mf = (sumb - sumb)/wf \n",
        "  betweenvar = wb * wf * (mb - mf) * (mb - mf) \n",
        "  if (betweenvar>varmax):\n",
        "    varmax = betweenvar\n",
        "    thresh = i \n",
        "x = (\"Otsu's Thresholding (v = \")+str(thresh)+\")\" \n",
        "ret, th1 = cv2.threshold(blur, 127, 255, cv2.THRESH_BINARY)\n",
        "ret, th2 = cv2.threshold (blur, thresh, 255, cv2. THRESH_BINARY)\n",
        "\n",
        "titles = ['Citra Asli', 'Global Thresholding (v = 127)', x] \n",
        "citra3 = [blur, th1, th2]\n",
        "\n",
        "plt. figure(figsize = (20,15)) \n",
        "for i in range(len(citra3)):\n",
        "    plt. subplot(1,3,i+1),plt.imshow(citra3[i], 'gray') \n",
        "    plt.title(titles[i])\n",
        "    plt.xticks([]),plt.yticks([]) \n",
        "plt.show()"
      ],
      "execution_count": null,
      "outputs": []
    },
    {
      "cell_type": "markdown",
      "metadata": {
        "id": "0yxqseSyHXdg"
      },
      "source": [
        "**5. Membuat histogram dari citra tersegmentasi**"
      ]
    },
    {
      "cell_type": "code",
      "metadata": {
        "id": "mqKACx3LG_jv"
      },
      "source": [
        "import cv2\n",
        "import numpy as np\n",
        "from matplotlib import pyplot as plt\n",
        "\n",
        "filename = ('/content/drive/MyDrive/PCVK/lily.jpg')\n",
        "\n",
        "img = cv2.imread(filename) \n",
        "img = cv2.cvtColor(img,cv2.COLOR_BGR2RGB) \n",
        "img_gray = cv2.cvtColor(img,cv2.COLOR_BGR2GRAY)\n",
        "\n",
        "ret3,mask = cv2.threshold(img_gray,200,255,cv2.THRESH_BINARY_INV)\n",
        "\n",
        "plt.figure(figsize = (10,10)) \n",
        "plt.subplot(2,2,1),plt.imshow(img) \n",
        "plt.title('Citra Asli') \n",
        "plt.subplot(2,2,2),plt.imshow(mask, 'gray') \n",
        "plt.title('Citra Segment') \n",
        "color = ('r','g','b') \n",
        "for i,col in enumerate(color):\n",
        "    hist0 = cv2.calcHist([img],[i],None,[256],[0,256]) \n",
        "    plt.subplot(2,2,3),plt.plot(hist0,color = col) \n",
        "    plt.title('Histogram dari keseluruhan citra') \n",
        "    hist1 = cv2.calcHist([img],[i],mask,[256],[0,256]) \n",
        "    plt.subplot(2,2,4),plt.plot(hist1,color = col)\n",
        "    plt.title('Histogram dari keseluruhan citra') \n",
        "    hist1 = cv2.calcHist([img],[i],mask,[256],[0,256]) \n",
        "    plt.subplot(2,2,4),plt.plot(hist1,color = col) \n",
        "    plt.title('Histogram hanya pada FG objek saja')\n",
        "    plt.xlim([0,256]) \n",
        "plt.show()"
      ],
      "execution_count": null,
      "outputs": []
    },
    {
      "cell_type": "markdown",
      "metadata": {
        "id": "jp5ONz2yHY1g"
      },
      "source": [
        "**6. Membuat segmentasi warna**"
      ]
    },
    {
      "cell_type": "code",
      "metadata": {
        "id": "eK2VY20NHCLX"
      },
      "source": [
        "Images = ('/content/drive/MyDrive/PCVK/peppers.jpg')\n",
        "\n",
        "img = cv2.imread(Images) \n",
        "img = cv2.cvtColor(img,cv2.COLOR_BGR2RGB)\n",
        "\n",
        "\n",
        "pixel_values = img.reshape((-1, 3)) \n",
        "\n",
        "pixel_values = np.float32(pixel_values)\n",
        "\n",
        "\n",
        "criteria = (cv2.TERM_CRITERIA_EPS + cv2.TERM_CRITERIA_MAX_ITER, 100, 0.2)\n",
        "\n",
        "#jika diperhatikan pada image asli, terdapat 3 warna utama (hijau, biru, dan putih/orange). untuk percobaan ini kita akan gunakan 3 cluster untuk image ini\n",
        "\n",
        "k = 6 \n",
        "_, labels, (centers) = cv2.kmeans(pixel_values, k, None, criteria, 10, cv2.KMEANS_RANDOM_CENTERS)\n",
        "\n",
        "#konversi titik centroid kedalam integer \n",
        "centers = np.uint8(centers)\n",
        "\n",
        "#flattening label array \n",
        "labels = labels.flatten()\n",
        "\n",
        "#konversi warna pixel asli kewarna dari tiap centroidnya \n",
        "segmented_image = centers[labels.flatten()] \n",
        "# reshape ke bentuk image asli \n",
        "segmented_image = segmented_image.reshape(img.shape)\n",
        "\n",
        "masked_image = np.copy(img) \n",
        "masked_image0= masked_image.reshape((-1, 3)) \n",
        "masked_image0[labels != 1] = [255, 255, 255]\n",
        "masked_image0 = masked_image0.reshape(img.shape)\n",
        "\n",
        "\n",
        "plt.figure(figsize = (15,12)) \n",
        "plt.subplot(2,2,1),plt.imshow(img) \n",
        "plt.subplot(2,2,2),plt.imshow(masked_image0) \n",
        "\n",
        "\n",
        "plt.show"
      ],
      "execution_count": null,
      "outputs": []
    },
    {
      "cell_type": "markdown",
      "metadata": {
        "id": "7E1k4VCPHamw"
      },
      "source": [
        "**7. Membuat  thresholding biner**"
      ]
    },
    {
      "cell_type": "code",
      "metadata": {
        "id": "wV0e_VzKHFV_"
      },
      "source": [
        "img = cv2.imread('/content/drive/MyDrive/PCVK/crossword.jpg')\n",
        "\n",
        "ret, thresh = cv2.threshold(img, 125, 255, cv2.THRESH_TOZERO)\n",
        "\n",
        "cv2.waitKey(0)\n",
        "cv2.destroyAllWindows()\n",
        "plt.imshow(thresh)"
      ],
      "execution_count": null,
      "outputs": []
    }
  ]
}